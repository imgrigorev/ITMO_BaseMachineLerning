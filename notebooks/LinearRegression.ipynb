{
 "cells": [
  {
   "cell_type": "code",
   "id": "initial_id",
   "metadata": {
    "collapsed": true,
    "ExecuteTime": {
     "end_time": "2024-11-11T07:58:30.494708Z",
     "start_time": "2024-11-11T07:58:30.477986Z"
    }
   },
   "source": [
    "import pandas as pd\n",
    "from sklearn.linear_model import LinearRegression\n",
    "\n",
    "input_file = \"../models/data_for_task_2\"\n",
    "df = pd.read_csv(input_file)\n",
    "\n",
    "X = df.iloc[:, 1:-1].to_numpy()\n",
    "y = df.iloc[:, -1].to_numpy()\n",
    "\n",
    "reg = LinearRegression().fit(X, y)\n",
    "\n",
    "print(reg.score(X, y))\n",
    "\n",
    "x_ = X.mean()\n",
    "y_ = y.mean()\n",
    "ch = 0\n",
    "zn = 0\n",
    "for i in range(len(X)):\n",
    "    ch += (X[i] - x_) * (y[i] - y_)\n",
    "    zn += (X[i] - x_) ** 2\n",
    "print(ch / zn)  # t1\n",
    "print(y_ - (ch / zn) * x_)  # t0\n",
    "print(reg.coef_) # t1\n",
    "print(reg.intercept_) # t0\n"
   ],
   "outputs": [
    {
     "name": "stdout",
     "output_type": "stream",
     "text": [
      "0.8020775669170237\n",
      "[1.67038172]\n",
      "[6.61799944]\n",
      "[1.67038172]\n"
     ]
    }
   ],
   "execution_count": 43
  },
  {
   "metadata": {
    "ExecuteTime": {
     "end_time": "2024-11-11T07:58:30.529582Z",
     "start_time": "2024-11-11T07:58:30.527976Z"
    }
   },
   "cell_type": "code",
   "source": "",
   "id": "3c7c9c7e0eeda0e4",
   "outputs": [],
   "execution_count": 43
  },
  {
   "metadata": {
    "ExecuteTime": {
     "end_time": "2024-11-11T07:58:30.534847Z",
     "start_time": "2024-11-11T07:58:30.533377Z"
    }
   },
   "cell_type": "code",
   "source": "",
   "id": "7ddc40ad883fda36",
   "outputs": [],
   "execution_count": 43
  }
 ],
 "metadata": {
  "kernelspec": {
   "display_name": "Python 3",
   "language": "python",
   "name": "python3"
  },
  "language_info": {
   "codemirror_mode": {
    "name": "ipython",
    "version": 2
   },
   "file_extension": ".py",
   "mimetype": "text/x-python",
   "name": "python",
   "nbconvert_exporter": "python",
   "pygments_lexer": "ipython2",
   "version": "2.7.6"
  }
 },
 "nbformat": 4,
 "nbformat_minor": 5
}
